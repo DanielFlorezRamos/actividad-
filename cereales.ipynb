{
  "nbformat": 4,
  "nbformat_minor": 0,
  "metadata": {
    "colab": {
      "provenance": [],
      "authorship_tag": "ABX9TyPSp/2qZe1qGGajLda6RDeh",
      "include_colab_link": true
    },
    "kernelspec": {
      "name": "python3",
      "display_name": "Python 3"
    },
    "language_info": {
      "name": "python"
    }
  },
  "cells": [
    {
      "cell_type": "markdown",
      "metadata": {
        "id": "view-in-github",
        "colab_type": "text"
      },
      "source": [
        "<a href=\"https://colab.research.google.com/github/DanielFlorezRamos/actividad-/blob/main/cereales.ipynb\" target=\"_parent\"><img src=\"https://colab.research.google.com/assets/colab-badge.svg\" alt=\"Open In Colab\"/></a>"
      ]
    },
    {
      "cell_type": "code",
      "execution_count": 5,
      "metadata": {
        "colab": {
          "base_uri": "https://localhost:8080/"
        },
        "id": "X2jg-3j7Z2ai",
        "outputId": "5e39a06f-aec0-4a53-d669-1ed7a7fd3864"
      },
      "outputs": [
        {
          "output_type": "stream",
          "name": "stdout",
          "text": [
            "fatal: destination path 'actividad-' already exists and is not an empty directory.\n",
            "El promedio de calorías de la competencia es: 46.883116883116884\n",
            "El promedio de calorías de la competencia es: 106.88311688311688\n",
            "Datos organizados: [ 50.  50.  50.  70.  70.  80.  90.  90.  90.  90.  90.  90.  90. 100.\n",
            " 100. 100. 100. 100. 100. 100. 100. 100. 100. 100. 100. 100. 100. 100.\n",
            " 100. 100. 110. 110. 110. 110. 110. 110. 110. 110. 110. 110. 110. 110.\n",
            " 110. 110. 110. 110. 110. 110. 110. 110. 110. 110. 110. 110. 110. 110.\n",
            " 110. 110. 110. 120. 120. 120. 120. 120. 120. 120. 120. 120. 120. 130.\n",
            " 130. 140. 140. 140. 150. 150. 160.]\n",
            "La mediana de calorías de la competencia es: 110.0\n",
            "La desviación estándar de calorías de la competencia es: 19.35718533390827\n",
            "El perceptil requerido es:  4 , 70.0 calorias\n",
            "\n",
            "El porcentaje de cereales con mas de 60 calorias:  96.1038961038961 %\n",
            "\n",
            "La desviacion estandar es:  19.35718533390827\n"
          ]
        }
      ],
      "source": [
        "!git clone https://github.com/DanielFlorezRamos/actividad-.git\n",
        "import numpy as np\n",
        "\n",
        "calorie_stats = np.genfromtxt('actividad-/cereal.csv', delimiter =\",\")\n",
        "\n",
        "average_calories = np.mean(calorie_stats)\n",
        "print(\"El promedio de calorías de la competencia es:\", (average_calories - 60))\n",
        "print(\"El promedio de calorías de la competencia es:\", average_calories)\n",
        "\n",
        "calorie_stats = np.sort(calorie_stats)\n",
        "print(\"Datos organizados:\", calorie_stats)\n",
        "median_calories = np.median(calorie_stats)\n",
        "print(\"La mediana de calorías de la competencia es:\", median_calories)\n",
        "\n",
        "std_calories = np.std(calorie_stats)\n",
        "print(\"La desviación estándar de calorías de la competencia es:\", std_calories)\n",
        "\n",
        "i = 0\n",
        "nth_percentile = 0\n",
        "while nth_percentile < 60:\n",
        "  nth_percentile = np.percentile(calorie_stats, i)\n",
        "  i += 1\n",
        "\n",
        "more_calories = (len(calorie_stats[calorie_stats > 60])) / len(calorie_stats) * 100\n",
        "\n",
        "calorie_std = np.std(calorie_stats)\n",
        "print(\"El perceptil requerido es: \",i-1,\",\",nth_percentile,\"calorias\")\n",
        "print()\n",
        "print(\"El porcentaje de cereales con mas de 60 calorias: \",more_calories,\"%\")\n",
        "print()\n",
        "print(\"La desviacion estandar es: \",calorie_std)"
      ]
    },
    {
      "cell_type": "markdown",
      "source": [
        "presentado por Daniel Florez Ramos"
      ],
      "metadata": {
        "id": "vPcxg6wfeS_J"
      }
    }
  ]
}